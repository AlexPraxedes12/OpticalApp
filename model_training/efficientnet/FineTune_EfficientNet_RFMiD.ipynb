{
  "cells": [
    {
      "cell_type": "code",
      "execution_count": null,
      "id": "0ed67352",
      "metadata": {
        "id": "0ed67352"
      },
      "outputs": [],
      "source": [
        "# EfficientNet Fine-Tuning for RFMiD Dataset"
      ]
    },
    {
      "cell_type": "code",
      "execution_count": null,
      "id": "2469b126",
      "metadata": {
        "colab": {
          "base_uri": "https://localhost:8080/"
        },
        "collapsed": true,
        "id": "2469b126",
        "outputId": "66edb5d5-e088-4764-a5ce-b0b3c531fecb"
      },
      "outputs": [
        {
          "output_type": "stream",
          "name": "stdout",
          "text": [
            "Requirement already satisfied: torch in /usr/local/lib/python3.11/dist-packages (from -r https://raw.githubusercontent.com/AlexPraxedes12/rfmid_lite/refs/heads/main/requirements.txt (line 2)) (2.6.0+cu124)\n",
            "Requirement already satisfied: torchvision in /usr/local/lib/python3.11/dist-packages (from -r https://raw.githubusercontent.com/AlexPraxedes12/rfmid_lite/refs/heads/main/requirements.txt (line 3)) (0.21.0+cu124)\n",
            "Requirement already satisfied: timm in /usr/local/lib/python3.11/dist-packages (from -r https://raw.githubusercontent.com/AlexPraxedes12/rfmid_lite/refs/heads/main/requirements.txt (line 4)) (1.0.16)\n",
            "Requirement already satisfied: pandas in /usr/local/lib/python3.11/dist-packages (from -r https://raw.githubusercontent.com/AlexPraxedes12/rfmid_lite/refs/heads/main/requirements.txt (line 5)) (2.2.2)\n",
            "Requirement already satisfied: scikit-learn in /usr/local/lib/python3.11/dist-packages (from -r https://raw.githubusercontent.com/AlexPraxedes12/rfmid_lite/refs/heads/main/requirements.txt (line 6)) (1.6.1)\n",
            "Requirement already satisfied: filelock in /usr/local/lib/python3.11/dist-packages (from torch->-r https://raw.githubusercontent.com/AlexPraxedes12/rfmid_lite/refs/heads/main/requirements.txt (line 2)) (3.18.0)\n",
            "Requirement already satisfied: typing-extensions>=4.10.0 in /usr/local/lib/python3.11/dist-packages (from torch->-r https://raw.githubusercontent.com/AlexPraxedes12/rfmid_lite/refs/heads/main/requirements.txt (line 2)) (4.14.1)\n",
            "Requirement already satisfied: networkx in /usr/local/lib/python3.11/dist-packages (from torch->-r https://raw.githubusercontent.com/AlexPraxedes12/rfmid_lite/refs/heads/main/requirements.txt (line 2)) (3.5)\n",
            "Requirement already satisfied: jinja2 in /usr/local/lib/python3.11/dist-packages (from torch->-r https://raw.githubusercontent.com/AlexPraxedes12/rfmid_lite/refs/heads/main/requirements.txt (line 2)) (3.1.6)\n",
            "Requirement already satisfied: fsspec in /usr/local/lib/python3.11/dist-packages (from torch->-r https://raw.githubusercontent.com/AlexPraxedes12/rfmid_lite/refs/heads/main/requirements.txt (line 2)) (2025.3.2)\n",
            "Collecting nvidia-cuda-nvrtc-cu12==12.4.127 (from torch->-r https://raw.githubusercontent.com/AlexPraxedes12/rfmid_lite/refs/heads/main/requirements.txt (line 2))\n",
            "  Downloading nvidia_cuda_nvrtc_cu12-12.4.127-py3-none-manylinux2014_x86_64.whl.metadata (1.5 kB)\n",
            "Collecting nvidia-cuda-runtime-cu12==12.4.127 (from torch->-r https://raw.githubusercontent.com/AlexPraxedes12/rfmid_lite/refs/heads/main/requirements.txt (line 2))\n",
            "  Downloading nvidia_cuda_runtime_cu12-12.4.127-py3-none-manylinux2014_x86_64.whl.metadata (1.5 kB)\n",
            "Collecting nvidia-cuda-cupti-cu12==12.4.127 (from torch->-r https://raw.githubusercontent.com/AlexPraxedes12/rfmid_lite/refs/heads/main/requirements.txt (line 2))\n",
            "  Downloading nvidia_cuda_cupti_cu12-12.4.127-py3-none-manylinux2014_x86_64.whl.metadata (1.6 kB)\n",
            "Collecting nvidia-cudnn-cu12==9.1.0.70 (from torch->-r https://raw.githubusercontent.com/AlexPraxedes12/rfmid_lite/refs/heads/main/requirements.txt (line 2))\n",
            "  Downloading nvidia_cudnn_cu12-9.1.0.70-py3-none-manylinux2014_x86_64.whl.metadata (1.6 kB)\n",
            "Collecting nvidia-cublas-cu12==12.4.5.8 (from torch->-r https://raw.githubusercontent.com/AlexPraxedes12/rfmid_lite/refs/heads/main/requirements.txt (line 2))\n",
            "  Downloading nvidia_cublas_cu12-12.4.5.8-py3-none-manylinux2014_x86_64.whl.metadata (1.5 kB)\n",
            "Collecting nvidia-cufft-cu12==11.2.1.3 (from torch->-r https://raw.githubusercontent.com/AlexPraxedes12/rfmid_lite/refs/heads/main/requirements.txt (line 2))\n",
            "  Downloading nvidia_cufft_cu12-11.2.1.3-py3-none-manylinux2014_x86_64.whl.metadata (1.5 kB)\n",
            "Collecting nvidia-curand-cu12==10.3.5.147 (from torch->-r https://raw.githubusercontent.com/AlexPraxedes12/rfmid_lite/refs/heads/main/requirements.txt (line 2))\n",
            "  Downloading nvidia_curand_cu12-10.3.5.147-py3-none-manylinux2014_x86_64.whl.metadata (1.5 kB)\n",
            "Collecting nvidia-cusolver-cu12==11.6.1.9 (from torch->-r https://raw.githubusercontent.com/AlexPraxedes12/rfmid_lite/refs/heads/main/requirements.txt (line 2))\n",
            "  Downloading nvidia_cusolver_cu12-11.6.1.9-py3-none-manylinux2014_x86_64.whl.metadata (1.6 kB)\n",
            "Collecting nvidia-cusparse-cu12==12.3.1.170 (from torch->-r https://raw.githubusercontent.com/AlexPraxedes12/rfmid_lite/refs/heads/main/requirements.txt (line 2))\n",
            "  Downloading nvidia_cusparse_cu12-12.3.1.170-py3-none-manylinux2014_x86_64.whl.metadata (1.6 kB)\n",
            "Requirement already satisfied: nvidia-cusparselt-cu12==0.6.2 in /usr/local/lib/python3.11/dist-packages (from torch->-r https://raw.githubusercontent.com/AlexPraxedes12/rfmid_lite/refs/heads/main/requirements.txt (line 2)) (0.6.2)\n",
            "Requirement already satisfied: nvidia-nccl-cu12==2.21.5 in /usr/local/lib/python3.11/dist-packages (from torch->-r https://raw.githubusercontent.com/AlexPraxedes12/rfmid_lite/refs/heads/main/requirements.txt (line 2)) (2.21.5)\n",
            "Requirement already satisfied: nvidia-nvtx-cu12==12.4.127 in /usr/local/lib/python3.11/dist-packages (from torch->-r https://raw.githubusercontent.com/AlexPraxedes12/rfmid_lite/refs/heads/main/requirements.txt (line 2)) (12.4.127)\n",
            "Collecting nvidia-nvjitlink-cu12==12.4.127 (from torch->-r https://raw.githubusercontent.com/AlexPraxedes12/rfmid_lite/refs/heads/main/requirements.txt (line 2))\n",
            "  Downloading nvidia_nvjitlink_cu12-12.4.127-py3-none-manylinux2014_x86_64.whl.metadata (1.5 kB)\n",
            "Requirement already satisfied: triton==3.2.0 in /usr/local/lib/python3.11/dist-packages (from torch->-r https://raw.githubusercontent.com/AlexPraxedes12/rfmid_lite/refs/heads/main/requirements.txt (line 2)) (3.2.0)\n",
            "Requirement already satisfied: sympy==1.13.1 in /usr/local/lib/python3.11/dist-packages (from torch->-r https://raw.githubusercontent.com/AlexPraxedes12/rfmid_lite/refs/heads/main/requirements.txt (line 2)) (1.13.1)\n",
            "Requirement already satisfied: mpmath<1.4,>=1.1.0 in /usr/local/lib/python3.11/dist-packages (from sympy==1.13.1->torch->-r https://raw.githubusercontent.com/AlexPraxedes12/rfmid_lite/refs/heads/main/requirements.txt (line 2)) (1.3.0)\n",
            "Requirement already satisfied: numpy in /usr/local/lib/python3.11/dist-packages (from torchvision->-r https://raw.githubusercontent.com/AlexPraxedes12/rfmid_lite/refs/heads/main/requirements.txt (line 3)) (2.0.2)\n",
            "Requirement already satisfied: pillow!=8.3.*,>=5.3.0 in /usr/local/lib/python3.11/dist-packages (from torchvision->-r https://raw.githubusercontent.com/AlexPraxedes12/rfmid_lite/refs/heads/main/requirements.txt (line 3)) (11.2.1)\n",
            "Requirement already satisfied: pyyaml in /usr/local/lib/python3.11/dist-packages (from timm->-r https://raw.githubusercontent.com/AlexPraxedes12/rfmid_lite/refs/heads/main/requirements.txt (line 4)) (6.0.2)\n",
            "Requirement already satisfied: huggingface_hub in /usr/local/lib/python3.11/dist-packages (from timm->-r https://raw.githubusercontent.com/AlexPraxedes12/rfmid_lite/refs/heads/main/requirements.txt (line 4)) (0.33.2)\n",
            "Requirement already satisfied: safetensors in /usr/local/lib/python3.11/dist-packages (from timm->-r https://raw.githubusercontent.com/AlexPraxedes12/rfmid_lite/refs/heads/main/requirements.txt (line 4)) (0.5.3)\n",
            "Requirement already satisfied: python-dateutil>=2.8.2 in /usr/local/lib/python3.11/dist-packages (from pandas->-r https://raw.githubusercontent.com/AlexPraxedes12/rfmid_lite/refs/heads/main/requirements.txt (line 5)) (2.9.0.post0)\n",
            "Requirement already satisfied: pytz>=2020.1 in /usr/local/lib/python3.11/dist-packages (from pandas->-r https://raw.githubusercontent.com/AlexPraxedes12/rfmid_lite/refs/heads/main/requirements.txt (line 5)) (2025.2)\n",
            "Requirement already satisfied: tzdata>=2022.7 in /usr/local/lib/python3.11/dist-packages (from pandas->-r https://raw.githubusercontent.com/AlexPraxedes12/rfmid_lite/refs/heads/main/requirements.txt (line 5)) (2025.2)\n",
            "Requirement already satisfied: scipy>=1.6.0 in /usr/local/lib/python3.11/dist-packages (from scikit-learn->-r https://raw.githubusercontent.com/AlexPraxedes12/rfmid_lite/refs/heads/main/requirements.txt (line 6)) (1.15.3)\n",
            "Requirement already satisfied: joblib>=1.2.0 in /usr/local/lib/python3.11/dist-packages (from scikit-learn->-r https://raw.githubusercontent.com/AlexPraxedes12/rfmid_lite/refs/heads/main/requirements.txt (line 6)) (1.5.1)\n",
            "Requirement already satisfied: threadpoolctl>=3.1.0 in /usr/local/lib/python3.11/dist-packages (from scikit-learn->-r https://raw.githubusercontent.com/AlexPraxedes12/rfmid_lite/refs/heads/main/requirements.txt (line 6)) (3.6.0)\n",
            "Requirement already satisfied: six>=1.5 in /usr/local/lib/python3.11/dist-packages (from python-dateutil>=2.8.2->pandas->-r https://raw.githubusercontent.com/AlexPraxedes12/rfmid_lite/refs/heads/main/requirements.txt (line 5)) (1.17.0)\n",
            "Requirement already satisfied: packaging>=20.9 in /usr/local/lib/python3.11/dist-packages (from huggingface_hub->timm->-r https://raw.githubusercontent.com/AlexPraxedes12/rfmid_lite/refs/heads/main/requirements.txt (line 4)) (24.2)\n",
            "Requirement already satisfied: requests in /usr/local/lib/python3.11/dist-packages (from huggingface_hub->timm->-r https://raw.githubusercontent.com/AlexPraxedes12/rfmid_lite/refs/heads/main/requirements.txt (line 4)) (2.32.3)\n",
            "Requirement already satisfied: tqdm>=4.42.1 in /usr/local/lib/python3.11/dist-packages (from huggingface_hub->timm->-r https://raw.githubusercontent.com/AlexPraxedes12/rfmid_lite/refs/heads/main/requirements.txt (line 4)) (4.67.1)\n",
            "Requirement already satisfied: hf-xet<2.0.0,>=1.1.2 in /usr/local/lib/python3.11/dist-packages (from huggingface_hub->timm->-r https://raw.githubusercontent.com/AlexPraxedes12/rfmid_lite/refs/heads/main/requirements.txt (line 4)) (1.1.5)\n",
            "Requirement already satisfied: MarkupSafe>=2.0 in /usr/local/lib/python3.11/dist-packages (from jinja2->torch->-r https://raw.githubusercontent.com/AlexPraxedes12/rfmid_lite/refs/heads/main/requirements.txt (line 2)) (3.0.2)\n",
            "Requirement already satisfied: charset-normalizer<4,>=2 in /usr/local/lib/python3.11/dist-packages (from requests->huggingface_hub->timm->-r https://raw.githubusercontent.com/AlexPraxedes12/rfmid_lite/refs/heads/main/requirements.txt (line 4)) (3.4.2)\n",
            "Requirement already satisfied: idna<4,>=2.5 in /usr/local/lib/python3.11/dist-packages (from requests->huggingface_hub->timm->-r https://raw.githubusercontent.com/AlexPraxedes12/rfmid_lite/refs/heads/main/requirements.txt (line 4)) (3.10)\n",
            "Requirement already satisfied: urllib3<3,>=1.21.1 in /usr/local/lib/python3.11/dist-packages (from requests->huggingface_hub->timm->-r https://raw.githubusercontent.com/AlexPraxedes12/rfmid_lite/refs/heads/main/requirements.txt (line 4)) (2.4.0)\n",
            "Requirement already satisfied: certifi>=2017.4.17 in /usr/local/lib/python3.11/dist-packages (from requests->huggingface_hub->timm->-r https://raw.githubusercontent.com/AlexPraxedes12/rfmid_lite/refs/heads/main/requirements.txt (line 4)) (2025.7.9)\n",
            "Downloading nvidia_cublas_cu12-12.4.5.8-py3-none-manylinux2014_x86_64.whl (363.4 MB)\n",
            "\u001b[2K   \u001b[90m━━━━━━━━━━━━━━━━━━━━━━━━━━━━━━━━━━━━━━━━\u001b[0m \u001b[32m363.4/363.4 MB\u001b[0m \u001b[31m5.0 MB/s\u001b[0m eta \u001b[36m0:00:00\u001b[0m\n",
            "\u001b[?25hDownloading nvidia_cuda_cupti_cu12-12.4.127-py3-none-manylinux2014_x86_64.whl (13.8 MB)\n",
            "\u001b[2K   \u001b[90m━━━━━━━━━━━━━━━━━━━━━━━━━━━━━━━━━━━━━━━━\u001b[0m \u001b[32m13.8/13.8 MB\u001b[0m \u001b[31m110.8 MB/s\u001b[0m eta \u001b[36m0:00:00\u001b[0m\n",
            "\u001b[?25hDownloading nvidia_cuda_nvrtc_cu12-12.4.127-py3-none-manylinux2014_x86_64.whl (24.6 MB)\n",
            "\u001b[2K   \u001b[90m━━━━━━━━━━━━━━━━━━━━━━━━━━━━━━━━━━━━━━━━\u001b[0m \u001b[32m24.6/24.6 MB\u001b[0m \u001b[31m87.0 MB/s\u001b[0m eta \u001b[36m0:00:00\u001b[0m\n",
            "\u001b[?25hDownloading nvidia_cuda_runtime_cu12-12.4.127-py3-none-manylinux2014_x86_64.whl (883 kB)\n",
            "\u001b[2K   \u001b[90m━━━━━━━━━━━━━━━━━━━━━━━━━━━━━━━━━━━━━━━━\u001b[0m \u001b[32m883.7/883.7 kB\u001b[0m \u001b[31m56.4 MB/s\u001b[0m eta \u001b[36m0:00:00\u001b[0m\n",
            "\u001b[?25hDownloading nvidia_cudnn_cu12-9.1.0.70-py3-none-manylinux2014_x86_64.whl (664.8 MB)\n",
            "\u001b[2K   \u001b[90m━━━━━━━━━━━━━━━━━━━━━━━━━━━━━━━━━━━━━━━━\u001b[0m \u001b[32m664.8/664.8 MB\u001b[0m \u001b[31m1.7 MB/s\u001b[0m eta \u001b[36m0:00:00\u001b[0m\n",
            "\u001b[?25hDownloading nvidia_cufft_cu12-11.2.1.3-py3-none-manylinux2014_x86_64.whl (211.5 MB)\n",
            "\u001b[2K   \u001b[90m━━━━━━━━━━━━━━━━━━━━━━━━━━━━━━━━━━━━━━━━\u001b[0m \u001b[32m211.5/211.5 MB\u001b[0m \u001b[31m11.4 MB/s\u001b[0m eta \u001b[36m0:00:00\u001b[0m\n",
            "\u001b[?25hDownloading nvidia_curand_cu12-10.3.5.147-py3-none-manylinux2014_x86_64.whl (56.3 MB)\n",
            "\u001b[2K   \u001b[90m━━━━━━━━━━━━━━━━━━━━━━━━━━━━━━━━━━━━━━━━\u001b[0m \u001b[32m56.3/56.3 MB\u001b[0m \u001b[31m41.1 MB/s\u001b[0m eta \u001b[36m0:00:00\u001b[0m\n",
            "\u001b[?25hDownloading nvidia_cusolver_cu12-11.6.1.9-py3-none-manylinux2014_x86_64.whl (127.9 MB)\n",
            "\u001b[2K   \u001b[90m━━━━━━━━━━━━━━━━━━━━━━━━━━━━━━━━━━━━━━━━\u001b[0m \u001b[32m127.9/127.9 MB\u001b[0m \u001b[31m19.4 MB/s\u001b[0m eta \u001b[36m0:00:00\u001b[0m\n",
            "\u001b[?25hDownloading nvidia_cusparse_cu12-12.3.1.170-py3-none-manylinux2014_x86_64.whl (207.5 MB)\n",
            "\u001b[2K   \u001b[90m━━━━━━━━━━━━━━━━━━━━━━━━━━━━━━━━━━━━━━━━\u001b[0m \u001b[32m207.5/207.5 MB\u001b[0m \u001b[31m3.9 MB/s\u001b[0m eta \u001b[36m0:00:00\u001b[0m\n",
            "\u001b[?25hDownloading nvidia_nvjitlink_cu12-12.4.127-py3-none-manylinux2014_x86_64.whl (21.1 MB)\n",
            "\u001b[2K   \u001b[90m━━━━━━━━━━━━━━━━━━━━━━━━━━━━━━━━━━━━━━━━\u001b[0m \u001b[32m21.1/21.1 MB\u001b[0m \u001b[31m105.3 MB/s\u001b[0m eta \u001b[36m0:00:00\u001b[0m\n",
            "\u001b[?25hInstalling collected packages: nvidia-nvjitlink-cu12, nvidia-curand-cu12, nvidia-cufft-cu12, nvidia-cuda-runtime-cu12, nvidia-cuda-nvrtc-cu12, nvidia-cuda-cupti-cu12, nvidia-cublas-cu12, nvidia-cusparse-cu12, nvidia-cudnn-cu12, nvidia-cusolver-cu12\n",
            "  Attempting uninstall: nvidia-nvjitlink-cu12\n",
            "    Found existing installation: nvidia-nvjitlink-cu12 12.5.82\n",
            "    Uninstalling nvidia-nvjitlink-cu12-12.5.82:\n",
            "      Successfully uninstalled nvidia-nvjitlink-cu12-12.5.82\n",
            "  Attempting uninstall: nvidia-curand-cu12\n",
            "    Found existing installation: nvidia-curand-cu12 10.3.6.82\n",
            "    Uninstalling nvidia-curand-cu12-10.3.6.82:\n",
            "      Successfully uninstalled nvidia-curand-cu12-10.3.6.82\n",
            "  Attempting uninstall: nvidia-cufft-cu12\n",
            "    Found existing installation: nvidia-cufft-cu12 11.2.3.61\n",
            "    Uninstalling nvidia-cufft-cu12-11.2.3.61:\n",
            "      Successfully uninstalled nvidia-cufft-cu12-11.2.3.61\n",
            "  Attempting uninstall: nvidia-cuda-runtime-cu12\n",
            "    Found existing installation: nvidia-cuda-runtime-cu12 12.5.82\n",
            "    Uninstalling nvidia-cuda-runtime-cu12-12.5.82:\n",
            "      Successfully uninstalled nvidia-cuda-runtime-cu12-12.5.82\n",
            "  Attempting uninstall: nvidia-cuda-nvrtc-cu12\n",
            "    Found existing installation: nvidia-cuda-nvrtc-cu12 12.5.82\n",
            "    Uninstalling nvidia-cuda-nvrtc-cu12-12.5.82:\n",
            "      Successfully uninstalled nvidia-cuda-nvrtc-cu12-12.5.82\n",
            "  Attempting uninstall: nvidia-cuda-cupti-cu12\n",
            "    Found existing installation: nvidia-cuda-cupti-cu12 12.5.82\n",
            "    Uninstalling nvidia-cuda-cupti-cu12-12.5.82:\n",
            "      Successfully uninstalled nvidia-cuda-cupti-cu12-12.5.82\n",
            "  Attempting uninstall: nvidia-cublas-cu12\n",
            "    Found existing installation: nvidia-cublas-cu12 12.5.3.2\n",
            "    Uninstalling nvidia-cublas-cu12-12.5.3.2:\n",
            "      Successfully uninstalled nvidia-cublas-cu12-12.5.3.2\n",
            "  Attempting uninstall: nvidia-cusparse-cu12\n",
            "    Found existing installation: nvidia-cusparse-cu12 12.5.1.3\n",
            "    Uninstalling nvidia-cusparse-cu12-12.5.1.3:\n",
            "      Successfully uninstalled nvidia-cusparse-cu12-12.5.1.3\n",
            "  Attempting uninstall: nvidia-cudnn-cu12\n",
            "    Found existing installation: nvidia-cudnn-cu12 9.3.0.75\n",
            "    Uninstalling nvidia-cudnn-cu12-9.3.0.75:\n",
            "      Successfully uninstalled nvidia-cudnn-cu12-9.3.0.75\n",
            "  Attempting uninstall: nvidia-cusolver-cu12\n",
            "    Found existing installation: nvidia-cusolver-cu12 11.6.3.83\n",
            "    Uninstalling nvidia-cusolver-cu12-11.6.3.83:\n",
            "      Successfully uninstalled nvidia-cusolver-cu12-11.6.3.83\n",
            "Successfully installed nvidia-cublas-cu12-12.4.5.8 nvidia-cuda-cupti-cu12-12.4.127 nvidia-cuda-nvrtc-cu12-12.4.127 nvidia-cuda-runtime-cu12-12.4.127 nvidia-cudnn-cu12-9.1.0.70 nvidia-cufft-cu12-11.2.1.3 nvidia-curand-cu12-10.3.5.147 nvidia-cusolver-cu12-11.6.1.9 nvidia-cusparse-cu12-12.3.1.170 nvidia-nvjitlink-cu12-12.4.127\n"
          ]
        }
      ],
      "source": [
        "## 🔧 Install dependencies\n",
        "!pip install -r https://raw.githubusercontent.com/AlexPraxedes12/rfmid_lite/refs/heads/main/requirements.txt\n"
      ]
    },
    {
      "cell_type": "code",
      "execution_count": null,
      "id": "ac73c4f3",
      "metadata": {
        "colab": {
          "base_uri": "https://localhost:8080/"
        },
        "id": "ac73c4f3",
        "outputId": "deb1000c-18e5-42ed-cf99-c513d32ac20a"
      },
      "outputs": [
        {
          "output_type": "stream",
          "name": "stdout",
          "text": [
            "Mounted at /content/drive\n"
          ]
        }
      ],
      "source": [
        "## 📂 Mount Google Drive\n",
        "from google.colab import drive\n",
        "drive.mount('/content/drive')"
      ]
    },
    {
      "cell_type": "code",
      "execution_count": null,
      "id": "0ccb8c70",
      "metadata": {
        "colab": {
          "base_uri": "https://localhost:8080/"
        },
        "id": "0ccb8c70",
        "outputId": "509835a6-c0d5-492e-c5f6-03e29c54a19e"
      },
      "outputs": [
        {
          "output_type": "stream",
          "name": "stdout",
          "text": [
            "📦 Descomprimiendo: /content/drive/MyDrive/Training_Set.zip\n",
            "✅ Dataset descomprimido en: /content/Training_Set/Training\n",
            "🖼️ 1920 imágenes encontradas en /content/Training_Set/Training.\n",
            "✅ Todos los archivos necesarios están presentes.\n",
            "📦 Descomprimiendo: /content/drive/MyDrive/Evaluation_Set.zip\n",
            "✅ Dataset descomprimido en: /content/Validation_Set/Validation\n",
            "⚠️ No se encontraron imágenes con extensiones ['.png'] en /content/Validation_Set/Validation.\n",
            "❌ Archivos faltantes:\n",
            " - /content/Validation_Set/Validation/RFMiD_Validation_Labels.csv\n",
            "📦 Descomprimiendo: /content/drive/MyDrive/Test_Set.zip\n",
            "✅ Dataset descomprimido en: /content/Test_Set/Test\n",
            "🖼️ 640 imágenes encontradas en /content/Test_Set/Test.\n",
            "❌ Archivos faltantes:\n",
            " - /content/Test_Set/Test/RFMiD_Testing_Labels.csv\n"
          ]
        }
      ],
      "source": [
        "import os\n",
        "import zipfile\n",
        "\n",
        "def unzip_and_verify(zip_path, extract_dir, expected_files=[], expected_extensions=[]):\n",
        "    print(f\"📦 Decompressing: {zip_path}\")\n",
        "\n",
        "    # Extract if the folder does not exist\n",
        "    if not os.path.exists(extract_dir):\n",
        "        with zipfile.ZipFile(zip_path, 'r') as zip_ref:\n",
        "            zip_ref.extractall(\"/content\")\n",
        "        print(f\"✅ Dataset uncompressed in: {extract_dir}\")\n",
        "    else:\n",
        "        print(f\"📁 Dataset was already uncompressed in.: {extract_dir}\")\n",
        "\n",
        "    # Verify that the CSV is present if specified\n",
        "    missing_items = []\n",
        "    for file in expected_files:\n",
        "        full_path = os.path.join(extract_dir, file)\n",
        "        if not os.path.exists(full_path):\n",
        "            missing_items.append(full_path)\n",
        "\n",
        "    # Check number of images if desired\n",
        "    if expected_extensions:\n",
        "        found_images = []\n",
        "        for root, _, files in os.walk(extract_dir):\n",
        "            found_images += [f for f in files if any(f.endswith(ext) for ext in expected_extensions)]\n",
        "        if not found_images:\n",
        "            print(f\"⚠️ No images with extensions found {expected_extensions} en {extract_dir}.\")\n",
        "        else:\n",
        "            print(f\"🖼️ {len(found_images)} images found in {extract_dir}.\")\n",
        "\n",
        "    # Show missing files\n",
        "    if missing_items:\n",
        "        print(\"❌ Missing files:\")\n",
        "        for m in missing_items:\n",
        "            print(\" -\", m)\n",
        "    else:\n",
        "        print(\"✅ All necessary files are present.\")\n",
        "\n",
        "# Training\n",
        "unzip_and_verify(\n",
        "    \"/content/drive/MyDrive/Training_Set.zip\",\n",
        "    \"/content/Training_Set/Training\",\n",
        "    expected_extensions=[\".png\"]\n",
        ")\n",
        "\n",
        "# Validation\n",
        "unzip_and_verify(\n",
        "    \"/content/drive/MyDrive/Evaluation_Set.zip\",\n",
        "    \"/content/Validation_Set/Validation\",\n",
        "    expected_files=[\"RFMiD_Validation_Labels.csv\"],\n",
        "    expected_extensions=[\".png\"]\n",
        ")\n",
        "\n",
        "# Test\n",
        "unzip_and_verify(\n",
        "    \"/content/drive/MyDrive/Test_Set.zip\",\n",
        "    \"/content/Test_Set/Test\",\n",
        "    expected_files=[\"RFMiD_Testing_Labels.csv\"],\n",
        "    expected_extensions=[\".png\"]\n",
        ")\n"
      ]
    },
    {
      "cell_type": "code",
      "execution_count": null,
      "id": "f6057829",
      "metadata": {
        "colab": {
          "base_uri": "https://localhost:8080/"
        },
        "collapsed": true,
        "id": "f6057829",
        "outputId": "d75c6bbd-8398-48b2-fa1e-268afa5bd648"
      },
      "outputs": [
        {
          "output_type": "stream",
          "name": "stdout",
          "text": [
            "--2025-07-11 21:50:06--  https://raw.githubusercontent.com/AlexPraxedes12/rfmid_lite/refs/heads/main/train_efficientnet.py\n",
            "Resolving raw.githubusercontent.com (raw.githubusercontent.com)... 185.199.108.133, 185.199.109.133, 185.199.110.133, ...\n",
            "Connecting to raw.githubusercontent.com (raw.githubusercontent.com)|185.199.108.133|:443... connected.\n",
            "HTTP request sent, awaiting response... 200 OK\n",
            "Length: 8086 (7.9K) [text/plain]\n",
            "Saving to: ‘train_efficientnet.py’\n",
            "\n",
            "\rtrain_efficientnet.   0%[                    ]       0  --.-KB/s               \rtrain_efficientnet. 100%[===================>]   7.90K  --.-KB/s    in 0s      \n",
            "\n",
            "Last-modified header missing -- time-stamps turned off.\n",
            "2025-07-11 21:50:06 (111 MB/s) - ‘train_efficientnet.py’ saved [8086/8086]\n",
            "\n"
          ]
        }
      ],
      "source": [
        "## 📜 Download training script\n",
        "!wget -N https://raw.githubusercontent.com/AlexPraxedes12/rfmid_lite/refs/heads/main/train_efficientnet.py\n"
      ]
    },
    {
      "cell_type": "code",
      "execution_count": null,
      "id": "2a5436db",
      "metadata": {
        "colab": {
          "base_uri": "https://localhost:8080/"
        },
        "id": "2a5436db",
        "outputId": "d13815bc-8f86-4a0a-fc43-43d1f92861d5"
      },
      "outputs": [
        {
          "output_type": "stream",
          "name": "stdout",
          "text": [
            "Loaded labels with shape (1920, 29)\n",
            "Loaded labels with shape (640, 29)\n",
            "Loaded labels with shape (640, 29)\n",
            "/usr/local/lib/python3.11/dist-packages/torchvision/models/_utils.py:208: UserWarning: The parameter 'pretrained' is deprecated since 0.13 and may be removed in the future, please use 'weights' instead.\n",
            "  warnings.warn(\n",
            "/usr/local/lib/python3.11/dist-packages/torchvision/models/_utils.py:223: UserWarning: Arguments other than a weight enum or `None` for 'weights' are deprecated since 0.13 and may be removed in the future. The current behavior is equivalent to passing `weights=EfficientNet_B0_Weights.IMAGENET1K_V1`. You can also use `weights=EfficientNet_B0_Weights.DEFAULT` to get the most up-to-date weights.\n",
            "  warnings.warn(msg)\n",
            "[Epoch 1] Training Loss: 0.2814\n",
            "[Epoch 1] Validation Loss: 0.1287\n",
            "Saved best model\n",
            "[Epoch 2] Training Loss: 0.1133\n",
            "[Epoch 2] Validation Loss: 0.1055\n",
            "Saved best model\n",
            "[Epoch 3] Training Loss: 0.0958\n",
            "[Epoch 3] Validation Loss: 0.0959\n",
            "Saved best model\n",
            "[Epoch 4] Training Loss: 0.0840\n",
            "[Epoch 4] Validation Loss: 0.0931\n",
            "Saved best model\n",
            "[Epoch 5] Training Loss: 0.0731\n",
            "[Epoch 5] Validation Loss: 0.0891\n",
            "Saved best model\n",
            "[Epoch 6] Training Loss: 0.0637\n",
            "[Epoch 6] Validation Loss: 0.0883\n",
            "Saved best model\n",
            "[Epoch 7] Training Loss: 0.0556\n",
            "[Epoch 7] Validation Loss: 0.0874\n",
            "Saved best model\n",
            "[Epoch 8] Training Loss: 0.0484\n",
            "[Epoch 8] Validation Loss: 0.0882\n",
            "[Epoch 9] Training Loss: 0.0417\n",
            "[Epoch 9] Validation Loss: 0.0911\n",
            "[Epoch 10] Training Loss: 0.0380\n",
            "[Epoch 10] Validation Loss: 0.0897\n",
            "\n",
            " Testing results:\n",
            "Classification Report:\n",
            "               precision    recall  f1-score   support\n",
            "\n",
            "           0       0.87      0.77      0.82       124\n",
            "           1       0.87      0.42      0.57        31\n",
            "           2       0.74      0.82      0.78       104\n",
            "           3       0.40      0.17      0.24        46\n",
            "           4       0.90      0.84      0.87        32\n",
            "           5       1.00      0.65      0.79        23\n",
            "           6       0.64      0.43      0.52        53\n",
            "           7       0.00      0.00      0.00         5\n",
            "           8       0.60      0.20      0.30        15\n",
            "           9       0.00      0.00      0.00         7\n",
            "          10       1.00      0.15      0.27        13\n",
            "          11       0.55      0.40      0.46        91\n",
            "          12       1.00      0.56      0.71         9\n",
            "          13       0.00      0.00      0.00         2\n",
            "          14       1.00      0.40      0.57         5\n",
            "          15       0.83      0.21      0.33        24\n",
            "          16       0.92      0.65      0.76        17\n",
            "          17       0.00      0.00      0.00         2\n",
            "          18       0.00      0.00      0.00         4\n",
            "          19       0.00      0.00      0.00         4\n",
            "          20       0.00      0.00      0.00         5\n",
            "          21       0.86      0.43      0.57        14\n",
            "          22       0.00      0.00      0.00        11\n",
            "          23       0.00      0.00      0.00         4\n",
            "          24       0.00      0.00      0.00         4\n",
            "          25       0.00      0.00      0.00         3\n",
            "          26       0.00      0.00      0.00         2\n",
            "          27       0.00      0.00      0.00        15\n",
            "\n",
            "   micro avg       0.76      0.50      0.60       669\n",
            "   macro avg       0.43      0.25      0.31       669\n",
            "weighted avg       0.67      0.50      0.56       669\n",
            " samples avg       0.46      0.42      0.43       669\n",
            "\n",
            "Accuracy: 0.5219\n",
            "F1 Macro: 0.3054\n",
            "F1 Micro: 0.6032\n",
            "Macro AUC: 0.8871100283179548\n",
            "Results saved to: /content/drive/MyDrive/results_efficientnet.txt\n",
            "(0.521875, 0.30539305774681896, 0.6032315978456014, '              precision    recall  f1-score   support\\n\\n           0       0.87      0.77      0.82       124\\n           1       0.87      0.42      0.57        31\\n           2       0.74      0.82      0.78       104\\n           3       0.40      0.17      0.24        46\\n           4       0.90      0.84      0.87        32\\n           5       1.00      0.65      0.79        23\\n           6       0.64      0.43      0.52        53\\n           7       0.00      0.00      0.00         5\\n           8       0.60      0.20      0.30        15\\n           9       0.00      0.00      0.00         7\\n          10       1.00      0.15      0.27        13\\n          11       0.55      0.40      0.46        91\\n          12       1.00      0.56      0.71         9\\n          13       0.00      0.00      0.00         2\\n          14       1.00      0.40      0.57         5\\n          15       0.83      0.21      0.33        24\\n          16       0.92      0.65      0.76        17\\n          17       0.00      0.00      0.00         2\\n          18       0.00      0.00      0.00         4\\n          19       0.00      0.00      0.00         4\\n          20       0.00      0.00      0.00         5\\n          21       0.86      0.43      0.57        14\\n          22       0.00      0.00      0.00        11\\n          23       0.00      0.00      0.00         4\\n          24       0.00      0.00      0.00         4\\n          25       0.00      0.00      0.00         3\\n          26       0.00      0.00      0.00         2\\n          27       0.00      0.00      0.00        15\\n\\n   micro avg       0.76      0.50      0.60       669\\n   macro avg       0.43      0.25      0.31       669\\nweighted avg       0.67      0.50      0.56       669\\n samples avg       0.46      0.42      0.43       669\\n')\n"
          ]
        }
      ],
      "source": [
        "## 🚀 Run training\n",
        "!python train_efficientnet.py"
      ]
    },
    {
      "cell_type": "code",
      "source": [
        "import shutil\n",
        "\n",
        "# Make sure you have mounted Drive\n",
        "from google.colab import drive\n",
        "drive.mount('/content/drive')\n",
        "\n",
        "# Copy the model to your Drive folder\n",
        "shutil.copy('/content/efficientnet_rfmid_best.pth', '/content/drive/MyDrive/efficientnet_rfmid_best.pth')"
      ],
      "metadata": {
        "colab": {
          "base_uri": "https://localhost:8080/",
          "height": 73
        },
        "collapsed": true,
        "id": "WSzxWlHAqRfR",
        "outputId": "d26ebd05-2e2c-4579-8fbe-9369ed006571"
      },
      "id": "WSzxWlHAqRfR",
      "execution_count": null,
      "outputs": [
        {
          "output_type": "stream",
          "name": "stdout",
          "text": [
            "Drive already mounted at /content/drive; to attempt to forcibly remount, call drive.mount(\"/content/drive\", force_remount=True).\n"
          ]
        },
        {
          "output_type": "execute_result",
          "data": {
            "text/plain": [
              "'/content/drive/MyDrive/efficientnet_rfmid_best.pth'"
            ],
            "application/vnd.google.colaboratory.intrinsic+json": {
              "type": "string"
            }
          },
          "metadata": {},
          "execution_count": 14
        }
      ]
    }
  ],
  "metadata": {
    "colab": {
      "provenance": [],
      "machine_shape": "hm",
      "gpuType": "A100"
    },
    "language_info": {
      "name": "python"
    },
    "kernelspec": {
      "name": "python3",
      "display_name": "Python 3"
    },
    "accelerator": "GPU"
  },
  "nbformat": 4,
  "nbformat_minor": 5
}